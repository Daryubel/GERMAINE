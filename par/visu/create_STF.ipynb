{
 "cells": [
  {
   "attachments": {},
   "cell_type": "markdown",
   "metadata": {},
   "source": [
    "**Create TD source wavelet**<br />\n",
    "Daniel Köhn<br />\n",
    "Kiel, 01.09.2017"
   ]
  },
  {
   "attachments": {},
   "cell_type": "markdown",
   "metadata": {},
   "source": [
    "**Import necessary packages**"
   ]
  },
  {
   "cell_type": "code",
   "execution_count": null,
   "metadata": {
    "collapsed": true
   },
   "outputs": [],
   "source": [
    "import numpy as np\n",
    "import matplotlib as plt\n",
    "import matplotlib.pyplot as plt\n",
    "from matplotlib.pyplot import gca\n",
    "import matplotlib as mpl\n",
    "from pylab import rcParams\n",
    "from matplotlib import rc\n",
    "#%matplotlib notebook"
   ]
  },
  {
   "attachments": {},
   "cell_type": "markdown",
   "metadata": {},
   "source": [
    "**Define parameters TD parameters of source wavelet**"
   ]
  },
  {
   "cell_type": "code",
   "execution_count": null,
   "metadata": {},
   "outputs": [],
   "source": [
    "# TD parameters\n",
    "Tmax = 250e-9       # maximum time TD\n",
    "dt = Tmax/1000      # time sampling\n",
    "\n",
    "# source wavelet centre frequency\n",
    "fc = 100e6\n",
    "\n",
    "# define time samples in time and frequency domain\n",
    "t = np.arange(0.0, Tmax, dt)\n",
    "nt = np.shape(t)\n",
    "dt"
   ]
  },
  {
   "attachments": {},
   "cell_type": "markdown",
   "metadata": {},
   "source": [
    "**Font properties**"
   ]
  },
  {
   "cell_type": "code",
   "execution_count": null,
   "metadata": {
    "collapsed": true
   },
   "outputs": [],
   "source": [
    "FSize = 25\n",
    "font = {'color':  'black',\n",
    "        'weight': 'bold',\n",
    "        'size': FSize}\n",
    "mpl.rc('xtick', labelsize=FSize) \n",
    "mpl.rc('ytick', labelsize=FSize) \n",
    "rcParams['figure.figsize'] = 15, 8"
   ]
  },
  {
   "attachments": {},
   "cell_type": "markdown",
   "metadata": {},
   "source": [
    "**Convolve FDFD spike data with TD source wavelet**"
   ]
  },
  {
   "cell_type": "code",
   "execution_count": null,
   "metadata": {
    "collapsed": true
   },
   "outputs": [],
   "source": [
    "# define Ricker wavelet\n",
    "ts = 1.0 / fc\n",
    "tau = np.pi * (t - 1.5 * ts) / (1.5 * ts)\n",
    "stf = (1.0 - 4.0 * tau * tau) * np.exp(-2.0 * tau * tau)\n",
    "\n",
    "# normalize source wavelet\n",
    "stf = stf / np.max(np.abs(stf))\n",
    "\n",
    "name_stf = \"wavelet.bin\"\n",
    "f = open (name_stf, mode='wb')\n",
    "data_type = np.dtype ('float32').newbyteorder ('<')\n",
    "stf = np.array(stf, dtype=data_type)\n",
    "stf.tofile(f)"
   ]
  },
  {
   "attachments": {},
   "cell_type": "markdown",
   "metadata": {},
   "source": [
    "**Plot source wavelet**"
   ]
  },
  {
   "cell_type": "code",
   "execution_count": null,
   "metadata": {},
   "outputs": [],
   "source": [
    "plt.rc('font',**{'family':'sans-serif','sans-serif':['Helvetica']})\n",
    "plt.rc('text', usetex=True)\n",
    "\n",
    "im = plt.plot(t*1e9,stf,'b-')\n",
    "\n",
    "a = gca()\n",
    "a.set_xticklabels(a.get_xticks(), font)\n",
    "a.set_yticklabels(a.get_yticks(), font)\n",
    "\n",
    "plt.title('Ricker wavelet', fontdict=font)\n",
    "plt.ylabel('Amplitude[]', fontdict=font)\n",
    "plt.xlabel('Time [ns]', fontdict=font)\n",
    "\n",
    "plt.savefig('ricker.pdf', bbox_inches='tight', format='pdf')\n",
    "plt.show()"
   ]
  },
  {
   "cell_type": "code",
   "execution_count": null,
   "metadata": {
    "collapsed": true
   },
   "outputs": [],
   "source": []
  }
 ],
 "metadata": {
  "kernelspec": {
   "display_name": "base",
   "language": "python",
   "name": "python3"
  },
  "language_info": {
   "codemirror_mode": {
    "name": "ipython",
    "version": 2
   },
   "file_extension": ".py",
   "mimetype": "text/x-python",
   "name": "python",
   "nbconvert_exporter": "python",
   "pygments_lexer": "ipython2",
   "version": "3.9.7"
  }
 },
 "nbformat": 4,
 "nbformat_minor": 2
}

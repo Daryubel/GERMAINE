{
 "cells": [
  {
   "attachments": {},
   "cell_type": "markdown",
   "metadata": {},
   "source": [
    "**Calculate TD shot gather from FD modelling results**<br />\n",
    "Daniel Köhn<br />\n",
    "Kiel, 01.09.2017"
   ]
  },
  {
   "attachments": {},
   "cell_type": "markdown",
   "metadata": {},
   "source": [
    "**Import necessary packages**"
   ]
  },
  {
   "cell_type": "code",
   "execution_count": null,
   "metadata": {
    "collapsed": true
   },
   "outputs": [],
   "source": [
    "import numpy as np\n",
    "import matplotlib as plt\n",
    "import matplotlib.pyplot as plt\n",
    "from matplotlib.pyplot import gca\n",
    "import matplotlib as mpl\n",
    "from pylab import rcParams\n",
    "from matplotlib import rc\n",
    "from scipy import interpolate\n",
    "from scipy import signal\n",
    "#%matplotlib notebook"
   ]
  },
  {
   "attachments": {},
   "cell_type": "markdown",
   "metadata": {},
   "source": [
    "**Define parameters for data visualization**"
   ]
  },
  {
   "cell_type": "code",
   "execution_count": null,
   "metadata": {
    "collapsed": true
   },
   "outputs": [],
   "source": [
    "clip = 5e-3   # data clip\n",
    "nsrc = 50      # number of shots\n",
    "ntr = 25     # number of receivers\n",
    "shotno = 1    # extract FDFD data for shot shotno\n",
    "\n",
    "# number of frequencies nf and frequency interval df\n",
    "FC_low = 50e7\n",
    "FC_high = 400e7\n",
    "\n",
    "nf = 1\n",
    "df = (FC_high - FC_low) / (nf)\n",
    "nfnsrc = nf * nsrc\n",
    "\n",
    "# TD parameters\n",
    "TmaxTD = 150e-9       # maximum time TD\n",
    "TmaxFD = 0.25 / df    # maximum time FD\n",
    "dt = TmaxFD / nf      # time sampling FD\n",
    "\n",
    "# maximum time sample of FD2TD corresponding to TmaxTD\n",
    "nmaxFD = np.int(TmaxTD / dt)\n",
    "\n",
    "# define time samples in time and frequency domain\n",
    "tFD = np.arange(0.0, TmaxTD, dt)\n",
    "offset = np.arange(0, ntr, 1)"
   ]
  },
  {
   "attachments": {},
   "cell_type": "markdown",
   "metadata": {},
   "source": [
    "**Font properties**"
   ]
  },
  {
   "cell_type": "code",
   "execution_count": null,
   "metadata": {
    "collapsed": true
   },
   "outputs": [],
   "source": [
    "FSize = 25\n",
    "font = {'color':  'black',\n",
    "        'weight': 'bold',\n",
    "        'size': FSize}\n",
    "mpl.rc('xtick', labelsize=FSize) \n",
    "mpl.rc('ytick', labelsize=FSize) \n",
    "rcParams['figure.figsize'] = 10, 10"
   ]
  },
  {
   "attachments": {},
   "cell_type": "markdown",
   "metadata": {},
   "source": [
    "__Time Damping__"
   ]
  },
  {
   "cell_type": "code",
   "execution_count": null,
   "metadata": {
    "collapsed": true
   },
   "outputs": [],
   "source": [
    "S = 0.0"
   ]
  },
  {
   "attachments": {},
   "cell_type": "markdown",
   "metadata": {},
   "source": [
    "**Read 2 cross TE-mode FD data**"
   ]
  },
  {
   "cell_type": "code",
   "execution_count": null,
   "metadata": {
    "collapsed": true
   },
   "outputs": [],
   "source": [
    "name_FDFD = \"../seis/MRTO_true/MRTO_p_stage_7.bin\"\n",
    "f = open (name_FDFD)\n",
    "data_type = np.dtype ('float32').newbyteorder ('<')\n",
    "data_FDFD = np.fromfile(f, dtype=data_type)\n",
    "data_FDFD = data_FDFD.reshape(nf*nsrc,(2*ntr)-2)\n",
    "data_FDFD = np.transpose(data_FDFD)\n",
    "data_FDFD = np.flipud(data_FDFD)"
   ]
  },
  {
   "attachments": {},
   "cell_type": "markdown",
   "metadata": {},
   "source": [
    "**Extract FD data for shot shotno**"
   ]
  },
  {
   "cell_type": "code",
   "execution_count": null,
   "metadata": {
    "collapsed": true
   },
   "outputs": [],
   "source": [
    "FD_real = data_FDFD[0:2*ntr-1:2,shotno-1:nfnsrc:nsrc]\n",
    "FD_imag = data_FDFD[1:2*ntr:2,shotno-1:nfnsrc:nsrc]\n",
    "data_FDFD = None\n",
    "\n",
    "# taper FD data\n",
    "window = signal.tukey(nf,1)\n",
    "\n",
    "for i in range (ntr):\n",
    "    FD_real[i-1,:] *= window\n",
    "    FD_imag[i-1,:] *= window"
   ]
  },
  {
   "cell_type": "code",
   "execution_count": null,
   "metadata": {
    "collapsed": true
   },
   "outputs": [],
   "source": [
    "# assemble complex data\n",
    "FDFD = FD_real + 1j*FD_imag\n",
    "FD_real = None\n",
    "FD_imag = None\n",
    "FDFD = np.transpose(FDFD)\n",
    "\n",
    "# tmp1 = np.concatenate((FDFD, np.zeros((nf, ntr)), np.zeros((nf, ntr)), np.flipud(FDFD)))\n",
    "tmp1 = np.concatenate((np.zeros((1, ntr-1)),FDFD,np.flipud(FDFD)))\n",
    "FDFD = None\n",
    "FDFD = tmp1"
   ]
  },
  {
   "cell_type": "code",
   "execution_count": null,
   "metadata": {
    "collapsed": true
   },
   "outputs": [],
   "source": [
    "#plt.imshow(np.real(FDFD))\n",
    "#plt.show()"
   ]
  },
  {
   "attachments": {},
   "cell_type": "markdown",
   "metadata": {},
   "source": [
    "**IFFT of FD data**"
   ]
  },
  {
   "cell_type": "code",
   "execution_count": null,
   "metadata": {
    "collapsed": true
   },
   "outputs": [],
   "source": [
    "# transformation from FD to TD\n",
    "FD2TD = np.fft.ifft(FDFD,axis=0)\n",
    "FD2TD = np.real(FD2TD)\n",
    "tmp1 = None"
   ]
  },
  {
   "attachments": {},
   "cell_type": "markdown",
   "metadata": {},
   "source": [
    "**Extract FD2TD up to TmaxTD and resample FD2TD from dtFD to dt**"
   ]
  },
  {
   "cell_type": "code",
   "execution_count": null,
   "metadata": {
    "collapsed": true
   },
   "outputs": [],
   "source": [
    "# extract FD2TD data up to TmaxTD\n",
    "tmp1 = FD2TD[1:nmaxFD,:]\n",
    "FD2DTD = None\n",
    "\n",
    "# clean memory\n",
    "tmp = None"
   ]
  },
  {
   "cell_type": "code",
   "execution_count": null,
   "metadata": {
    "collapsed": true
   },
   "outputs": [],
   "source": [
    "#plt.imshow(FD2TD, vmin=-clip, vmax=clip)\n",
    "#plt.show()"
   ]
  },
  {
   "cell_type": "code",
   "execution_count": null,
   "metadata": {
    "collapsed": true
   },
   "outputs": [],
   "source": [
    "#print(np.shape(tFD), np.shape(offset), np.shape(tmp1))"
   ]
  },
  {
   "attachments": {},
   "cell_type": "markdown",
   "metadata": {},
   "source": [
    "__Damp Time Domain Data__"
   ]
  },
  {
   "cell_type": "code",
   "execution_count": null,
   "metadata": {
    "collapsed": true
   },
   "outputs": [],
   "source": [
    "#tmp2 = np.exp(-S * tTD)\n",
    "#tdamp = np.tile(tmp2,(ntr,1))\n",
    "#tdamp = np.flipud(tdamp.T)\n",
    "#traces = traces * tdamp\n",
    "\n",
    "#tmp2 = None\n",
    "#tdamp = None"
   ]
  },
  {
   "attachments": {},
   "cell_type": "markdown",
   "metadata": {},
   "source": [
    "**Normalize data**"
   ]
  },
  {
   "cell_type": "code",
   "execution_count": null,
   "metadata": {
    "collapsed": true
   },
   "outputs": [],
   "source": [
    "#max_TD = np.max(traces)\n",
    "max_FD = np.max(tmp1)\n",
    "tmp1 = tmp1 / max_FD\n",
    "FD2TD = np.flipud(tmp1)\n",
    "\n",
    "tmp1 = None"
   ]
  },
  {
   "attachments": {},
   "cell_type": "markdown",
   "metadata": {},
   "source": [
    "__Shuffle 2-cross TE model data__"
   ]
  },
  {
   "cell_type": "code",
   "execution_count": null,
   "metadata": {
    "collapsed": true
   },
   "outputs": [],
   "source": [
    "tmp1 = FD2TD[:,0:29]\n",
    "tmp2 = FD2TD[:,30:57]\n",
    "tmp3 = FD2TD[:,58:87]\n",
    "tmp4 = FD2TD[:,88:116]\n",
    "\n",
    "FD2TD = None\n",
    "\n",
    "tmp = np.concatenate((tmp1.T, tmp4.T, np.flipud(tmp2.T), np.flipud(tmp3.T)))\n",
    "FD2TD = tmp.T\n",
    "\n",
    "tmp = None\n",
    "tmp1 = None\n",
    "tmp2 = None\n",
    "tmp3 = None\n",
    "tmp4 = None\n",
    "\n",
    "# plt.imshow(FD2TD)\n",
    "# plt.show()"
   ]
  },
  {
   "attachments": {},
   "cell_type": "markdown",
   "metadata": {},
   "source": [
    "**Plot shot gather**"
   ]
  },
  {
   "cell_type": "code",
   "execution_count": null,
   "metadata": {
    "collapsed": true
   },
   "outputs": [],
   "source": [
    "def do_plot(n, model, cm, an, title, clip):\n",
    "    \n",
    "    extent = [np.min(offset), np.max(offset), 0.0, dt * nmaxFD * 1e9]\n",
    "\n",
    "    plt.rc('font',**{'family':'sans-serif','sans-serif':['Helvetica']})\n",
    "    plt.rc('text', usetex=True)\n",
    "\n",
    "    im = plt.imshow(model, cmap=cm, interpolation='nearest', extent=extent, vmin=-clip, vmax=clip, aspect=0.5)\n",
    "\n",
    "    # a = gca()\n",
    "    # a.set_xticklabels(a.get_xticks(), font)\n",
    "    # a.set_yticklabels(a.get_yticks(), font)\n",
    "\n",
    "    plt.title(title, fontdict=font)\n",
    "    if n==1:\n",
    "        plt.ylabel('Time [ns]', fontdict=font)\n",
    "    plt.xlabel('Trace no.', fontdict=font)\n",
    "    plt.gca().invert_yaxis()\n",
    "    plt.savefig(\"test.png\", format='png')"
   ]
  },
  {
   "cell_type": "code",
   "execution_count": null,
   "metadata": {},
   "outputs": [],
   "source": [
    "do_plot(1, FD2TD, 'gray', '(b)', r\"2-cross TE-mode model (GERMAINE)\", clip)\n",
    "plt.tight_layout()\n",
    "output_file = \"test.png\"\n",
    "plt.savefig(output_file, bbox_inches='tight', format='png')\n",
    "plt.show()"
   ]
  },
  {
   "cell_type": "code",
   "execution_count": null,
   "metadata": {
    "collapsed": true
   },
   "outputs": [],
   "source": []
  }
 ],
 "metadata": {
  "kernelspec": {
   "display_name": "base",
   "language": "python",
   "name": "python3"
  },
  "language_info": {
   "codemirror_mode": {
    "name": "ipython",
    "version": 3
   },
   "file_extension": ".py",
   "mimetype": "text/x-python",
   "name": "python",
   "nbconvert_exporter": "python",
   "pygments_lexer": "ipython3",
   "version": "3.9.7"
  },
  "vscode": {
   "interpreter": {
    "hash": "981666cfc47d042e67bebde4da7c4e730197bccd14840551e11d3be09f667f3c"
   }
  }
 },
 "nbformat": 4,
 "nbformat_minor": 2
}
